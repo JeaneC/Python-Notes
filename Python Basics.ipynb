{
 "cells": [
  {
   "cell_type": "markdown",
   "metadata": {},
   "source": [
    "# Python Notes - Jeane Carlos\n",
    "\n",
    "#### Description: These aren't full guides on how to use certain elements in Python, it's more of a way for me to have all the things I use in one place (as opposed to google everytime). \n"
   ]
  },
  {
   "cell_type": "markdown",
   "metadata": {},
   "source": [
    "[Markdown Cheat Sheet](https://github.com/adam-p/markdown-here/wiki/Markdown-Cheatsheet \"Markdown Cheat Sheet\")"
   ]
  },
  {
   "cell_type": "markdown",
   "metadata": {},
   "source": [
    "## Checking for type\n",
    "- Use type(object/variable)\n",
    "\n",
    "\n",
    "## Loops\n",
    "\n",
    "- Common practice in for loops is to have the index statement be \"_\" if the index is not actually being used.\n",
    "- Start index is not necessary and is defaulted at 0"
   ]
  },
  {
   "cell_type": "code",
   "execution_count": null,
   "metadata": {},
   "outputs": [],
   "source": [
    "def loops():\n",
    "    for index in range(0,10):\n",
    "        print(index)\n",
    "\n",
    "#loops()"
   ]
  },
  {
   "cell_type": "markdown",
   "metadata": {},
   "source": [
    "## Lists\n",
    "\n",
    "- By lists we usually refer to arrays\n",
    "- Lists in python can contain multiple variable types\n",
    "- You can create an empty list like list = [None] * 10, but cases like these a dictionary is more preferable\n",
    "- You can cast objects to list using list(object)\n",
    "- Lists can be nested\n",
    "\n",
    "## Tuples\n",
    "- Like lists, but you can't modify them."
   ]
  },
  {
   "cell_type": "code",
   "execution_count": 19,
   "metadata": {},
   "outputs": [],
   "source": [
    "def lists():\n",
    "    list = []\n",
    "    list2 = [1,2,3]\n",
    "    list.insert(0,5) #insert(index, element)\n",
    "    list.remove(5) #remove(item) delete the first occurence of item\n",
    "    list.append(10) #append(item) append item at the end of the list\n",
    "    list.sort() #sort the list\n",
    "    list.pop() #pop(index) removes the last element if the index is not given and returns it\n",
    "    list.reverse() #reverses the order in the list\n",
    "    list.list(list2) # appends list 2 to the end of list\n",
    "    list.count(10) # returns the number of occurents of an element\n",
    "    \n",
    "    list10 = [1,2,3,4,5]\n",
    "    list10[-1] # returns last element\n",
    "    list10[0:3] # returns a list contain the first 3 elements, not including index 3\n",
    "    list10[:3] # returns a list of elements before index 3 (not including index 3)\n",
    "    list10[2:] # returns a list of elements starting/including index 2\n",
    "    \n",
    "    len(list10)\n",
    "    sum(list10)\n",
    "    max(list10)\n",
    "    min(list10)"
   ]
  },
  {
   "cell_type": "markdown",
   "metadata": {},
   "source": [
    "## List Comprehensions\n",
    "- List comprehensions have 3 generic parts\n",
    "- The first part is what each list element will look like\n",
    "- The second part is the for loop\n",
    "- The third part is an optional conditional\n",
    "- The second part can contain layers of loops in it"
   ]
  },
  {
   "cell_type": "code",
   "execution_count": 18,
   "metadata": {},
   "outputs": [],
   "source": [
    "def lComprehensions():\n",
    "    x = 2\n",
    "    y = 2\n",
    "    z = 2\n",
    "    n = 5\n",
    "    l = [[i,j,k] for i in range(0,x+1) for j in range(0,y+1) for k in range(0,z+1) if ((i+j+k) !=n)]\n",
    "    print(l)\n",
    "    \n",
    "    #[i,j,k] is what the list element looks like\n",
    "    # we have three for loops inside of each other\n",
    "    # Our last conditional just says to exclude all generated lists where the \n",
    "    # sum of x,y,z is equal to n\n",
    "    \n",
    "    pow2 = [2 ** x for x in range(10)]\n",
    "    print(pow2)\n",
    "            \n",
    "    # 2 ** x is how each element will look like\n",
    "    # Next is just one for loop\n",
    "    # No conditional needed\n",
    "    \n",
    "    \n",
    "    # This code alternates uppercases and lowercases\n",
    "    s = \"i Love chicken WinSa\"\n",
    "    s2 = ''.join([i.lower() if i.isupper() else i.upper() for i in s]) #.join combines a string with a sequence\n",
    "    print(s2)"
   ]
  },
  {
   "cell_type": "markdown",
   "metadata": {},
   "source": [
    "## Strings\n",
    "\n",
    "- Strings are a sequence of characters, and as such they have very similar functions to an array\n",
    "- Adding strings is concatenation\n",
    "- Strings can use \" \" or ' ' (single or double quotes)"
   ]
  },
  {
   "cell_type": "code",
   "execution_count": 22,
   "metadata": {},
   "outputs": [
    {
     "data": {
      "text/plain": [
       "'ab1'"
      ]
     },
     "execution_count": 22,
     "metadata": {},
     "output_type": "execute_result"
    }
   ],
   "source": [
    "def sMethods():\n",
    "    s = \"Hello World\"\n",
    "    s.capitalize()\n",
    "    s.count(\"l\", 0, len(s)) # count(str, start, end)\n",
    "    s.find(\"str\",0, len(s)) # returns index if found, otherwise -1\n",
    "    s.islower() #s.isupper()\n",
    "    s.lstrip() # remove leading whitespace\n",
    "    s.rstrip() # removing trailing white space\n",
    "    s.strip() #lstrip and rstrip\n",
    "    s.swapcase() # alternates cases in a string\n",
    "    s.title()\n",
    "    s.split() #Splits by spaces if no parameter is given\n",
    "    \n",
    "    list = [\"a\", \"b\", '1']\n",
    "    \"\".join(list) #converts a list to string\n",
    "    \n",
    "    \"-\".join(list) # converts a list to a string with elements separated by -\n",
    "list = [\"a\", \"b\", '1']\n",
    "\"\".join(list) #converts a list to string"
   ]
  },
  {
   "cell_type": "code",
   "execution_count": 21,
   "metadata": {},
   "outputs": [],
   "source": [
    "def formatting():\n",
    "    #General Formatting\n",
    "    '{} {}'.format('one', 'two') #Python 3\n",
    "    # '%s %s' % ('one', 'two') # Python 2, %s means string\n",
    "\n",
    "    #Truncating\n",
    "    '{:.5}'.format('xylophone')\n",
    "    # '%.5s' % ('xylophone',) # Python 2\n",
    "\n",
    "    #Check rounding below for NumberFormatting"
   ]
  },
  {
   "cell_type": "markdown",
   "metadata": {},
   "source": [
    "## Rounding"
   ]
  },
  {
   "cell_type": "code",
   "execution_count": 15,
   "metadata": {},
   "outputs": [],
   "source": [
    "def rounding():\n",
    "    print(\"%.2f\" % 10.5555) #.2f represents 2 decimal places\n",
    "    print(\"{0:.2f}\".format(10.55555))  # Same thing\n",
    "    print(round(1000.12345,4)) # Rounds to 4 decimal places"
   ]
  },
  {
   "cell_type": "markdown",
   "metadata": {},
   "source": [
    "## Any\n",
    "- Convenient method that iterates through each element in the list and returns true if one instance of a cindition is found"
   ]
  },
  {
   "cell_type": "code",
   "execution_count": null,
   "metadata": {
    "collapsed": true
   },
   "outputs": [],
   "source": [
    "def anyTest():\n",
    "    str = \"abc#2151AagoZ\"\n",
    "    print any(c.isalnum()  for c in str)\n",
    "    print any(c.isalpha() for c in str)\n",
    "    print any(c.isdigit() for c in str)\n",
    "    print any(c.islower() for c in str)\n",
    "    print any(c.isupper() for c in str)\n",
    "    \n",
    "    #This returns true if the str contains at least alphanumera,\n",
    "    #alpha,digits,lowercase,uppdercase"
   ]
  }
 ],
 "metadata": {
  "kernelspec": {
   "display_name": "Python 3",
   "language": "python",
   "name": "python3"
  },
  "language_info": {
   "codemirror_mode": {
    "name": "ipython",
    "version": 3
   },
   "file_extension": ".py",
   "mimetype": "text/x-python",
   "name": "python",
   "nbconvert_exporter": "python",
   "pygments_lexer": "ipython3",
   "version": "3.6.1"
  }
 },
 "nbformat": 4,
 "nbformat_minor": 2
}
