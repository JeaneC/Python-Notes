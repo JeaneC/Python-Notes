{
 "cells": [
  {
   "cell_type": "markdown",
   "metadata": {},
   "source": [
    "# Python Notes - Jeane Carlos\n",
    "\n",
    "#### Description: These aren't full guides on how to use certain elements in Python, it's more of a way for me to have all the things I use in one place (as opposed to google/stackoverflow everytime). \n"
   ]
  },
  {
   "cell_type": "markdown",
   "metadata": {},
   "source": [
    "[Markdown Cheat Sheet](https://github.com/adam-p/markdown-here/wiki/Markdown-Cheatsheet \"Markdown Cheat Sheet\")"
   ]
  },
  {
   "cell_type": "markdown",
   "metadata": {},
   "source": [
    "## Checking for type\n",
    "> type(object/variable)\n",
    "\n",
    "\n",
    "## Loops\n",
    "\n",
    "- Common practice in for loops is to have the index statement be \"_\" if the index is not actually being used.\n",
    "\n",
    "- Start index is not necessary and is defaulted at 0"
   ]
  },
  {
   "cell_type": "code",
   "execution_count": null,
   "metadata": {
    "collapsed": true
   },
   "outputs": [],
   "source": [
    "def loops():\n",
    "    for index in range(0,10):\n",
    "        print(index)\n",
    "\n",
    "#loops()"
   ]
  },
  {
   "cell_type": "markdown",
   "metadata": {},
   "source": [
    "## Lists\n",
    "\n",
    "- By lists we usually refer to arrays\n",
    "- Lists in python can contain multiple variable types\n",
    "- You can create an empty list like list = [None] * 10, but cases like these a dictionary is more preferable\n",
    "- You can cast objects to list using list(object)\n",
    "- Lists can be nested\n",
    "\n",
    "## Tuples\n",
    "> Like lists, but you can't modify them."
   ]
  },
  {
   "cell_type": "code",
   "execution_count": 19,
   "metadata": {
    "collapsed": true
   },
   "outputs": [],
   "source": [
    "def lists():\n",
    "    list = []\n",
    "    list2 = [1,2,3]\n",
    "    list.insert(0,5) #insert(index, element)\n",
    "    list.remove(5) #remove(item) delete the first occurence of item\n",
    "    list.append(10) #append(item) append item at the end of the list\n",
    "    list.sort() #sort the list\n",
    "    list.pop() #pop(index) removes the last element if the index is not given and returns it\n",
    "    list.reverse() #reverses the order in the list\n",
    "    list.list(list2) # appends list 2 to the end of list\n",
    "    list.count(10) # returns the number of occurents of an element\n",
    "    \n",
    "    list10 = [1,2,3,4,5]\n",
    "    list10[-1] # returns last element\n",
    "    list10[0:3] # returns a list contain the first 3 elements, not including index 3\n",
    "    list10[:3] # returns a list of elements before index 3 (not including index 3)\n",
    "    list10[2:] # returns a list of elements starting/including index 2\n",
    "    \n",
    "    len(list10)\n",
    "    sum(list10)\n",
    "    max(list10)\n",
    "    min(list10)\n",
    "    sorted(list10) \n",
    "    # list.sort() sorts the list and returns nothing, sorted(list) creates a seperate sorted list and returns that, but the original list is still not sorted"
   ]
  },
  {
   "cell_type": "markdown",
   "metadata": {},
   "source": [
    "## List Comprehensions\n",
    "- List comprehensions have 3 generic parts\n",
    "- The first part is what each list element will look like\n",
    "- The second part is the for loop\n",
    "- The third part is an optional conditional\n",
    "- The second part can contain layers of loops in it"
   ]
  },
  {
   "cell_type": "code",
   "execution_count": 18,
   "metadata": {
    "collapsed": true
   },
   "outputs": [],
   "source": [
    "def lComprehensions():\n",
    "    x = 2\n",
    "    y = 2\n",
    "    z = 2\n",
    "    n = 5\n",
    "    l = [[i,j,k] for i in range(0,x+1) for j in range(0,y+1) for k in range(0,z+1) if ((i+j+k) !=n)]\n",
    "    print(l)\n",
    "    \n",
    "    #[i,j,k] is what the list element looks like\n",
    "    # we have three for loops inside of each other\n",
    "    # Our last conditional just says to exclude all generated lists where the \n",
    "    # sum of x,y,z is equal to n\n",
    "    \n",
    "    pow2 = [2 ** x for x in range(10)]\n",
    "    print(pow2)\n",
    "            \n",
    "    # 2 ** x is how each element will look like\n",
    "    # Next is just one for loop\n",
    "    # No conditional needed\n",
    "    \n",
    "    \n",
    "    # This code alternates uppercases and lowercases\n",
    "    s = \"i Love chicken WinSa\"\n",
    "    s2 = ''.join([i.lower() if i.isupper() else i.upper() for i in s]) #.join combines a string with a sequence\n",
    "    print(s2)"
   ]
  },
  {
   "cell_type": "markdown",
   "metadata": {},
   "source": [
    "## Strings\n",
    "\n",
    "- Strings are a sequence of characters, and as such they have very similar functions to an array\n",
    "- Adding strings is concatenation\n",
    "- Strings can use \" \" or ' ' (single or double quotes)"
   ]
  },
  {
   "cell_type": "code",
   "execution_count": 1,
   "metadata": {
    "collapsed": true
   },
   "outputs": [],
   "source": [
    "def sMethods():\n",
    "    s = \"Hello World\"\n",
    "    s.capitalize()\n",
    "    s.count(\"l\", 0, len(s)) # count(str, start, end)\n",
    "    s.find(\"str\",0, len(s)) # returns index if found, otherwise -1\n",
    "    s.islower() #s.isupper()\n",
    "    s.lstrip() # remove leading whitespace\n",
    "    s.rstrip() # removing trailing white space\n",
    "    s.strip() #lstrip and rstrip\n",
    "    s.swapcase() # alternates cases in a string\n",
    "    s.title()\n",
    "    s.split() #Splits by spaces if no parameter is given\n",
    "    \n",
    "    list = [\"a\", \"b\", '1']\n",
    "    \"\".join(list) #converts a list to string\n",
    "    \n",
    "    \"-\".join(list) # converts a list to a string with elements separated by -"
   ]
  },
  {
   "cell_type": "code",
   "execution_count": 21,
   "metadata": {
    "collapsed": true
   },
   "outputs": [],
   "source": [
    "def formatting():\n",
    "    #General Formatting\n",
    "    '{} {}'.format('one', 'two') #Python 3\n",
    "    # '%s %s' % ('one', 'two') # Python 2, %s means string\n",
    "\n",
    "    #Truncating\n",
    "    '{:.5}'.format('xylophone')\n",
    "    # '%.5s' % ('xylophone',) # Python 2\n",
    "\n",
    "    #Check rounding below for NumberFormatting"
   ]
  },
  {
   "cell_type": "markdown",
   "metadata": {},
   "source": [
    "## Rounding"
   ]
  },
  {
   "cell_type": "code",
   "execution_count": 15,
   "metadata": {
    "collapsed": true
   },
   "outputs": [],
   "source": [
    "def rounding():\n",
    "    print(\"%.2f\" % 10.5555) #.2f represents 2 decimal places\n",
    "    print(\"{0:.2f}\".format(10.55555))  # Same thing\n",
    "    print(round(1000.12345,4)) # Rounds to 4 decimal places"
   ]
  },
  {
   "cell_type": "markdown",
   "metadata": {},
   "source": [
    "## Any\n",
    "> Any() is a convenient method that iterates through each element in the list and returns true if at least one instance of a condition is found"
   ]
  },
  {
   "cell_type": "code",
   "execution_count": 4,
   "metadata": {
    "collapsed": true
   },
   "outputs": [],
   "source": [
    "def anyTest():\n",
    "    str = \"abc#2151AagoZ\"\n",
    "    print(any(c.isalnum()  for c in str))\n",
    "    print(any(c.isalpha() for c in str))\n",
    "    print(any(c.isdigit() for c in str))\n",
    "    print(any(c.islower() for c in str))\n",
    "    print(any(c.isupper() for c in str))\n",
    "    \n",
    "    #This returns true if the str contains at least alphanumera,\n",
    "    #alpha,digits,lowercase,uppdercase"
   ]
  },
  {
   "cell_type": "markdown",
   "metadata": {},
   "source": [
    "## Hash\n",
    "\n",
    "___Although important, this part can be skipped___\n",
    "\n",
    "__Description__: Understanding hashses will explain the logic and implementation behind dictionaries and sets. Hash Tables or \"Dictionaries\" are arrays with indexing that is determined by a hash function. Since indexing starts at 0 and we are unlikely to need a billion elements, taking the modulo of a hash number results in a smaller range of index values.\n",
    "\n",
    "\n",
    "> [Great Documentation](http://www.laurentluce.com/posts/python-dictionary-implementation/)\n",
    "> \n",
    "\n",
    "> To _hash_ something is to create an index for an array. The hash() function in Python returns an extremely large integer that is designed to minimize collisions\n",
    "\n",
    "> A hash collision is where two distinct inputs result in the same output (inputs result in the same index). When a collision happens, hash implementations \"probe\" or search for a new slot through a process called open addressing. Once a unique slot is found, the key and value pair are stored there.\n",
    "\n",
    "> The \"fix\" to avoiding collisions is to create an efficient enough hash function that results in as many unique \"keys\" as possible."
   ]
  },
  {
   "cell_type": "markdown",
   "metadata": {},
   "source": [
    "## Dictionaries\n",
    "\n",
    "> Arrays require you to access elements by an index. Dictionaries allow you to access elements with string literals as well. Dictionaries work similar to that of a real-life dictionary, there is a word you want to look up, and when you look it up, it has a definition. Like wise, when you feed a dictionary a \"key\" to look up, it returns its \"value\"\n"
   ]
  },
  {
   "cell_type": "code",
   "execution_count": 15,
   "metadata": {
    "collapsed": true
   },
   "outputs": [],
   "source": [
    "def dictionary():\n",
    "    dict = {'Name': 'Zara', 'Age': 7, 'Class': 'First'}\n",
    "    print(dict['Name']) #Returns Zara\n",
    "    dict['Name'] = \"Mike\" #Changes they \"Name\" key to have a value of \"Mike\n",
    "    dict['Weight'] = 175 # Since thhe key \"Weight\" doesnt exist yet, it creates it\n",
    "    \n",
    "    # Methods\n",
    "    del dect['Weight']\n",
    "    dict.clear()\n",
    "    dict.items() # Returns a list of tuple key-value pairs\n",
    "    dict.keys() # Returns a list of the keys\n",
    "    dict.values() # Returns a list of dictionary values\n",
    "    "
   ]
  },
  {
   "cell_type": "markdown",
   "metadata": {},
   "source": [
    "## Sets\n",
    "> Sets are an unordered collection of elements without duplicate entries. Sets are basically dictionaries with no values because they \"key\" is the \"value\" in that sense."
   ]
  },
  {
   "cell_type": "code",
   "execution_count": 10,
   "metadata": {
    "collapsed": true
   },
   "outputs": [],
   "source": [
    "def sets():\n",
    "    x = {3,5,3,5} #{} braces are Python 3 Implementation\n",
    "    b = set(['a', 'c', 'e', 'H', 'k', 'n', 'r', 'R']) #Python 2 implementation still works\n",
    "    \n",
    "    #These operations change the set\n",
    "    b.add('c') # adds an element, does nothing if it exists\n",
    "    b.update([1,2,3,4,5]) #like add but for multiple values\n",
    "    b.remove('c') # removes the element if it exists\n",
    "    \n",
    "    # These operations do not change the set, but merely return a set/value\n",
    "    x.intersection(b) # values that are shared between a and b only]\n",
    "    x & b # same as above\n",
    "    x.union(b) # values in a or b\n",
    "    x | b # same as above\n",
    "    x.difference(b) # values in a but not in b\n",
    "    x - b # same as above\n",
    "    x.symmetric_difference(b) # Returns a list of elements in the set and in the other set/iterable, but not in both. DO NOT CONFUSE WITH INTERSECTION\n",
    "    x ^ b # same as above\n",
    "    x.issubset(b) # returns true if x is a subset of b\n",
    "    \n",
    "    #These operations are like those above, but they change the set, and do not return anything\n",
    "    x |= b #same as update above\n",
    "    x &= b #interesection update, similar to x & b, but instead the set itself is modified\n",
    "    x -= b #you guessed it\n",
    "    x ^= b #genius incoming"
   ]
  }
 ],
 "metadata": {
  "kernelspec": {
   "display_name": "Python 3",
   "language": "python",
   "name": "python3"
  },
  "language_info": {
   "codemirror_mode": {
    "name": "ipython",
    "version": 3
   },
   "file_extension": ".py",
   "mimetype": "text/x-python",
   "name": "python",
   "nbconvert_exporter": "python",
   "pygments_lexer": "ipython3",
   "version": "3.6.1"
  }
 },
 "nbformat": 4,
 "nbformat_minor": 2
}
