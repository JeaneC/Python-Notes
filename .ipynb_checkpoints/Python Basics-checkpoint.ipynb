{
 "cells": [
  {
   "cell_type": "markdown",
   "metadata": {},
   "source": [
    "# Python Notes - Jeane Carlos\n",
    "\n",
    "#### Description: These aren't full guides on how to use certain elements in Python, it's more of a way for me to have all the things I use in one place (as opposed to google everytime). \n"
   ]
  },
  {
   "cell_type": "markdown",
   "metadata": {},
   "source": [
    "[Markdown Cheat Sheet](https://github.com/adam-p/markdown-here/wiki/Markdown-Cheatsheet \"Markdown Cheat Sheet\")"
   ]
  },
  {
   "cell_type": "markdown",
   "metadata": {},
   "source": [
    "## Checking for type\n",
    "- Use type(object/variable)\n",
    "\n",
    "\n",
    "## Loops\n",
    "\n",
    "- Common practice in for loops is to have the index statement be \"_\" if the index is not actually being used.\n",
    "- Start index is not necessary and is defaulted at 0"
   ]
  },
  {
   "cell_type": "code",
   "execution_count": 6,
   "metadata": {},
   "outputs": [
    {
     "name": "stdout",
     "output_type": "stream",
     "text": [
      "0\n",
      "1\n",
      "2\n",
      "3\n",
      "4\n",
      "5\n",
      "6\n",
      "7\n",
      "8\n",
      "9\n"
     ]
    }
   ],
   "source": [
    "def loops():\n",
    "    for index in range(0,10):\n",
    "        print(index)\n",
    "\n",
    "#loops()"
   ]
  },
  {
   "cell_type": "markdown",
   "metadata": {},
   "source": [
    "## Lists\n",
    "\n",
    "- By lists we usually refer to arrays\n",
    "- Lists in python can contain multiple variable types\n",
    "- You can create an empty list like list = [None] * 10, but cases like these a dictionary is more preferable\n",
    "- You can cast objects to list using list(object)\n",
    "\n",
    "## Tuples\n",
    "- Like lists, but you can't modify them."
   ]
  },
  {
   "cell_type": "code",
   "execution_count": 12,
   "metadata": {},
   "outputs": [
    {
     "data": {
      "text/plain": [
       "[1, 2, 3]"
      ]
     },
     "execution_count": 12,
     "metadata": {},
     "output_type": "execute_result"
    }
   ],
   "source": [
    "def lists():\n",
    "    list = []\n",
    "    list2 = [1,2,3]\n",
    "    list.insert(0,5) #insert(index, element)\n",
    "    list.remove(5) #remove(item) delete the first occurence of item\n",
    "    list.append(10) #append(item) append item at the end of the list\n",
    "    list.sort() #sort the list\n",
    "    list.pop() #pop(index) removes the last element if the index is not given and returns it\n",
    "    list.reverse() #reverses the order in the list\n",
    "    list.list(list2) # appends list 2 to the end of list\n",
    "    list.count(10) # returns the number of occurents of an element\n",
    "    \n",
    "    list10 = [1,2,3,4,5]\n",
    "    list10[-1] # returns last element\n",
    "    list10[0:3] # returns a list contain the first 3 elements, not including index 3\n",
    "    list10[:3] # returns a list of elements before index 3 (not including index 3)\n",
    "    list10[2:] # returns a list of elements starting/including index 2\n",
    "\n",
    "list10 = [1,2,3,4,5]\n",
    "list10[0:3]"
   ]
  },
  {
   "cell_type": "code",
   "execution_count": null,
   "metadata": {
    "collapsed": true
   },
   "outputs": [],
   "source": []
  }
 ],
 "metadata": {
  "kernelspec": {
   "display_name": "Python 3",
   "language": "python",
   "name": "python3"
  },
  "language_info": {
   "codemirror_mode": {
    "name": "ipython",
    "version": 3
   },
   "file_extension": ".py",
   "mimetype": "text/x-python",
   "name": "python",
   "nbconvert_exporter": "python",
   "pygments_lexer": "ipython3",
   "version": "3.6.1"
  }
 },
 "nbformat": 4,
 "nbformat_minor": 2
}
