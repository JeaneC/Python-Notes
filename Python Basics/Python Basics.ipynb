{
 "cells": [
  {
   "cell_type": "markdown",
   "metadata": {},
   "source": [
    "# Python Notes - Jeane Carlos\n",
    "\n",
    "#### Description: These aren't full guides on how to use certain elements in Python, it's more of a way for me to have all the things I use in one place (as opposed to google/stackoverflow everytime). I also link documentation that I found the most useful (or probably just the first one I found) about each matter.\n"
   ]
  },
  {
   "cell_type": "markdown",
   "metadata": {},
   "source": [
    "[Markdown Cheat Sheet](https://github.com/adam-p/markdown-here/wiki/Markdown-Cheatsheet \"Markdown Cheat Sheet\")"
   ]
  },
  {
   "cell_type": "markdown",
   "metadata": {},
   "source": [
    "## Checking for type\n",
    "> type(object/variable)\n",
    "\n",
    "\n",
    "## Loops\n",
    "\n",
    "> [Reference](http://www.pythonforbeginners.com/loops/for-while-and-nested-loops-in-python)\n",
    "> \n",
    "\n",
    "> Loops are ways to iterate through a statement or group of statements. We have three different types of loops for-loops, for-each loops, while loops."
   ]
  },
  {
   "cell_type": "code",
   "execution_count": null,
   "metadata": {
    "collapsed": true
   },
   "outputs": [],
   "source": [
    "def loops():\n",
    "    list = [1,2,3,4,5,6]\n",
    "    x = 0\n",
    "    \n",
    "    # These are three diferent loops that accomplish the same thing\n",
    "    for index in range(0,len(list)):  \n",
    "        print(list[index])\n",
    "    for item in list:\n",
    "        print(item)\n",
    "    while x<len(list):\n",
    "        print(list[x])\n",
    "        x+=1\n",
    "        \n",
    "    for _ in range(0,len(list)): #It is common to use _ when you don't actually need a counter\n",
    "        print(\"Hello\")\n",
    "        \n",
    "    for index in range(len(list)): #The start index is defaulted at 0 and not necessary"
   ]
  },
  {
   "cell_type": "markdown",
   "metadata": {},
   "source": [
    "## Lists\n",
    "> [Documentation](https://docs.python.org/3/tutorial/datastructures.html)\n",
    "- By lists we usually refer to arrays\n",
    "- Lists in python can contain multiple variable types\n",
    "- You can create an empty list like list = [None] * 10, but cases like these a dictionary is more preferable\n",
    "- You can cast objects to list using list(object)\n",
    "- Lists can be nested\n",
    "\n",
    "## Tuples\n",
    "> Like lists, but you can't modify them."
   ]
  },
  {
   "cell_type": "code",
   "execution_count": null,
   "metadata": {
    "collapsed": true
   },
   "outputs": [],
   "source": [
    "def lists():\n",
    "    list = []\n",
    "    list2 = [1,2,3]\n",
    "    list.insert(0,5) #insert(index, element)\n",
    "    list.remove(5) #remove(item) delete the first occurence of item\n",
    "    list.append(10) #append(item) append item at the end of the list\n",
    "    list.sort() #sort the list\n",
    "    list.pop() #pop(index) removes the last element if the index is not given and returns it\n",
    "    list.reverse() #reverses the order in the list\n",
    "    list.list(list2) # appends list 2 to the end of list\n",
    "    list.count(10) # returns the number of occurents of an element\n",
    "    \n",
    "    list10 = [1,2,3,4,5]\n",
    "    list10[-1] # returns last element\n",
    "    list10[0:3] # returns a list contain the first 3 elements, not including index 3\n",
    "    list10[:3] # returns a list of elements before index 3 (not including index 3)\n",
    "    list10[2:] # returns a list of elements starting/including index 2\n",
    "    \n",
    "    len(list10)\n",
    "    sum(list10)\n",
    "    max(list10)\n",
    "    min(list10)\n",
    "    sorted(list10) \n",
    "    # list.sort() sorts the list and returns nothing, sorted(list) creates a seperate sorted list and returns that, but the original list is still not sorted"
   ]
  },
  {
   "cell_type": "markdown",
   "metadata": {},
   "source": [
    "## List Comprehensions\n",
    "> [Video](https://youtu.be/3dt4OGnU5sM)\n",
    ">\n",
    "\n",
    "> List comprehensions are designed to read English-like, you can construct an entire loop in one sentence.\n",
    "\n",
    "\n",
    "- List comprehensions have 3 generic parts\n",
    "- The first part is what each list element will look like\n",
    "- The second part is the for loop\n",
    "- The third part is an optional conditional\n",
    "- The first and second parts can contain layers of loops inside of it"
   ]
  },
  {
   "cell_type": "code",
   "execution_count": null,
   "metadata": {
    "collapsed": true
   },
   "outputs": [],
   "source": [
    "def lComprehensions():\n",
    "    x = 2\n",
    "    y = 2\n",
    "    z = 2\n",
    "    n = 5\n",
    "    l = [[i,j,k] for i in range(0,x+1) for j in range(0,y+1) for k in range(0,z+1) if ((i+j+k) !=n)]\n",
    "    print(l)\n",
    "    \n",
    "    #[i,j,k] is what the list element looks like\n",
    "    # we have three for loops inside of each other\n",
    "    # Our last conditional just says to exclude all generated lists where the \n",
    "    # sum of x,y,z is equal to n\n",
    "    \n",
    "    pow2 = [2 ** x for x in range(10)]\n",
    "    print(pow2)\n",
    "            \n",
    "    # 2 ** x is how each element will look like\n",
    "    # Next is just one for loop\n",
    "    # No conditional needed\n",
    "    \n",
    "    \n",
    "    # This code alternates uppercases and lowercases\n",
    "    s = \"i Love chicken WinSa\"\n",
    "    s2 = ''.join([i.lower() if i.isupper() else i.upper() for i in s]) #.join combines a string with a sequence\n",
    "    print(s2)"
   ]
  },
  {
   "cell_type": "markdown",
   "metadata": {},
   "source": [
    "## Strings\n",
    "\n",
    "> Strings are a sequence of characters, and as such they have very similar functions to an array"
   ]
  },
  {
   "cell_type": "code",
   "execution_count": null,
   "metadata": {
    "collapsed": true
   },
   "outputs": [],
   "source": [
    "def sMethods():\n",
    "    s = \"Hello\"\n",
    "    b = 'World'\n",
    "    s = s + \" \" + b #concatenation between 3 string literals\n",
    "    print(s)\n",
    "    s.capitalize()\n",
    "    s.count(\"l\", 0, len(s)) # count(str, start, end)\n",
    "    s.find(\"str\",0, len(s)) # returns index if found, otherwise -1\n",
    "    s.islower() #s.isupper()\n",
    "    s.lstrip() # remove leading whitespace\n",
    "    s.rstrip() # removing trailing white space\n",
    "    s.strip() #lstrip and rstrip\n",
    "    s.swapcase() # alternates cases in a string\n",
    "    s.title()\n",
    "    s.split() #Splits by spaces if no parameter is given\n",
    "    \n",
    "    list = [\"a\", \"b\", '1']\n",
    "    \"\".join(list) #converts a list to string\n",
    "    \n",
    "    \"-\".join(list) # converts a list to a string with elements separated by -"
   ]
  },
  {
   "cell_type": "code",
   "execution_count": null,
   "metadata": {
    "collapsed": true
   },
   "outputs": [],
   "source": [
    "def formatting():\n",
    "    #General Formatting\n",
    "    '{} {}'.format('one', 'two') #Python 3\n",
    "    # '%s %s' % ('one', 'two') # Python 2, %s means string\n",
    "\n",
    "    #Truncating\n",
    "    '{:.5}'.format('xylophone')\n",
    "    # '%.5s' % ('xylophone',) # Python 2\n",
    "\n",
    "    #Check rounding below for NumberFormatting"
   ]
  },
  {
   "cell_type": "markdown",
   "metadata": {},
   "source": [
    "## Hash\n",
    "\n",
    "___Although important, this part can be skipped___\n",
    "\n",
    "__Description__: Understanding hashses will explain the logic and implementation behind dictionaries and sets. Hash Tables or \"Dictionaries\" are arrays with indexing that is determined by a hash function. Since indexing starts at 0 and we are unlikely to need a billion elements, taking the modulo of a hash number results in a smaller range of index values.\n",
    "\n",
    "\n",
    "> [Great Documentation](http://www.laurentluce.com/posts/python-dictionary-implementation/)\n",
    "> \n",
    "\n",
    "> To _hash_ something is to create an index for an array. The hash() function in Python returns an extremely large integer that is designed to minimize collisions\n",
    "\n",
    "> A hash collision is where two distinct inputs result in the same output (inputs result in the same index). When a collision happens, hash implementations \"probe\" or search for a new slot through a process called open addressing. Once a unique slot is found, the key and value pair are stored there.\n",
    "\n",
    "> The \"fix\" to avoiding collisions is to create an efficient enough hash function that results in as many unique \"keys\" as possible."
   ]
  },
  {
   "cell_type": "markdown",
   "metadata": {},
   "source": [
    "## Dictionaries\n",
    "\n",
    "> Arrays require you to access elements by an index. Dictionaries allow you to access elements with string literals as well. Dictionaries work similar to that of a real-life dictionary, there is a word you want to look up, and when you look it up, it has a definition. Like wise, when you feed a dictionary a \"key\" to look up, it returns its \"value\"\n"
   ]
  },
  {
   "cell_type": "code",
   "execution_count": null,
   "metadata": {
    "collapsed": true
   },
   "outputs": [],
   "source": [
    "def dictionary():\n",
    "    dict = {'Name': 'Zara', 'Age': 7, 'Class': 'First'}\n",
    "    print(dict['Name']) #Returns Zara\n",
    "    dict['Name'] = \"Mike\" #Changes they \"Name\" key to have a value of \"Mike\n",
    "    dict['Weight'] = 175 # Since thhe key \"Weight\" doesnt exist yet, it creates it\n",
    "    \n",
    "    # Methods\n",
    "    del dect['Weight']\n",
    "    dict.clear()\n",
    "    dict.items() # Returns a list of tuple key-value pairs\n",
    "    dict.keys() # Returns a list of the keys\n",
    "    dict.values() # Returns a list of dictionary values\n",
    "    "
   ]
  },
  {
   "cell_type": "markdown",
   "metadata": {},
   "source": [
    "## Sets\n",
    "> Sets are an unordered collection of elements without duplicate entries. Sets are basically dictionaries with no values because they \"key\" is the \"value\" in that sense."
   ]
  },
  {
   "cell_type": "code",
   "execution_count": 4,
   "metadata": {
    "collapsed": true
   },
   "outputs": [],
   "source": [
    "def sets():\n",
    "    x = {3,5,3,5} #{} braces are Python 3 Implementation\n",
    "    b = set(['a', 'c', 'e', 'H', 'k', 'n', 'r', 'R']) #Python 2 implementation still works\n",
    "    \n",
    "    #These operations change the set\n",
    "    b.add('c') # adds an element, does nothing if it exists\n",
    "    b.update([1,2,3,4,5]) #like add but for multiple values\n",
    "    b.remove('c') # removes the element if it exists\n",
    "    \n",
    "    # These operations do not change the set, but merely return a set/value\n",
    "    x.intersection(b) # values that are shared between a and b only]\n",
    "    x & b # same as above\n",
    "    x.union(b) # values in a or b\n",
    "    x | b # same as above\n",
    "    x.difference(b) # values in a but not in b\n",
    "    x - b # same as above\n",
    "    x.symmetric_difference(b) # Returns a list of elements in the set and in the other set/iterable, but not in both. DO NOT CONFUSE WITH INTERSECTION\n",
    "    x ^ b # same as above\n",
    "    x.issubset(b) # returns true if x is a subset of b\n",
    "    \n",
    "    #These operations are like those above, but they change the set, and do not return anything\n",
    "    x |= b #same as update above\n",
    "    x &= b #interesection update, similar to x & b, but instead the set itself is modified\n",
    "    x -= b #you guessed it\n",
    "    x ^= b #genius incoming"
   ]
  },
  {
   "cell_type": "markdown",
   "metadata": {},
   "source": [
    "## Other Collections\n",
    "__Must import collections__\n",
    "\n",
    "### Counter\n",
    "> A counter stores elements as dictionary keys and their frequency as the dictionary value.\n",
    "\n",
    "### Ordered Dictionary\n",
    "> An OrderedDict remembers the orders the keys were inserted.\n",
    "\n",
    "### DefaultDict\n",
    "> Like a regular dictionary but contains it's own key as a key-value\n",
    "\n",
    "### Dequeues\n",
    "> Essentialy a double linked list\n"
   ]
  },
  {
   "cell_type": "code",
   "execution_count": 26,
   "metadata": {
    "collapsed": true
   },
   "outputs": [],
   "source": [
    "import collections\n",
    "\n",
    "def counterExample():\n",
    "    counter = collections.Counter([1,2,3,4,5,1,3,4])\n",
    "\n",
    "    for i in range(8):\n",
    "        if counter[i]: # If the counter exists and is not 0\n",
    "            counter[i] -=1 #subtract 1 from it\n",
    "    print(counter)    "
   ]
  },
  {
   "cell_type": "markdown",
   "metadata": {},
   "source": [
    "## Rounding"
   ]
  },
  {
   "cell_type": "code",
   "execution_count": null,
   "metadata": {
    "collapsed": true
   },
   "outputs": [],
   "source": [
    "def rounding():\n",
    "    print(\"%.2f\" % 10.5555) #.2f represents 2 decimal places\n",
    "    print(\"{0:.2f}\".format(10.55555))  # Same thing\n",
    "    print(round(1000.12345,4)) # Rounds to 4 decimal places"
   ]
  },
  {
   "cell_type": "markdown",
   "metadata": {},
   "source": [
    "## Any\n",
    "> Any() is a convenient method that iterates through each element in the list and returns true if at least one instance of a condition is found\n",
    "\n",
    "> All() returns true if ALL elements find the condition to be true"
   ]
  },
  {
   "cell_type": "code",
   "execution_count": null,
   "metadata": {
    "collapsed": true
   },
   "outputs": [],
   "source": [
    "def anyTest():\n",
    "    str = \"abc#2151AagoZ\"\n",
    "    \n",
    "    #These functions naturally only return true if ALL the digits are true\n",
    "    #Using any, and a for loop, we check for only one instance\n",
    "    \n",
    "    print(any(c.isalnum()  for c in str)) # True if at least one is alphanumeric\n",
    "    print(any(c.isalpha() for c in str)) # True if at least one is alpha\n",
    "    print(any(c.isdigit() for c in str)) # True if at least one is a digit\n",
    "    print(any(c.islower() for c in str)) # True if at least one is lower\n",
    "    print(any(c.isupper() for c in str)) # True if at least one is upper"
   ]
  },
  {
   "cell_type": "markdown",
   "metadata": {},
   "source": [
    "## GetAttr\n",
    "> [Documentation](https://docs.python.org/3/library/functions.html#getattr)\n",
    "\n",
    "> GetAttr is a very useful tool in python, especially for interacting with the user. GetAttr takes two parameters, an object and an attribute of that object (function, variable, etc.)\n",
    "\n",
    ">[Source of Bottom Example](https://www.hackerrank.com/challenges/py-set-discard-remove-pop/forum/comments/197551r) "
   ]
  },
  {
   "cell_type": "code",
   "execution_count": 12,
   "metadata": {
    "collapsed": true
   },
   "outputs": [],
   "source": [
    "def getAttrExample():\n",
    "    listA = [1,2,3,4,5,6,7,8]\n",
    "    print(list) # -> [1,2,3,4,5,6,7,8]\n",
    "    \n",
    "    command = \"insert 1 10\" #1 \n",
    "    method, *args = command.split() #2\n",
    "    getattr(listA, method) (*(int(x) for x in args)) #3\n",
    "    \n",
    "    print(listA) # -> [1, 10, 2, 3, 4, 5, 6, 7, 8]\n",
    "    \n",
    "    \"\"\"\n",
    "    \n",
    "    #1 Lets say the user inputs this in text,the user wants to insert 5 at index 1\n",
    "    \n",
    "    #2 In python we can neatly do something like a, b = 1, 2. This makes a =1, b = 2. However, \n",
    "    we can't really do a, b = 1, 2, 3. Since 3 would have no where to go, we can modify it to \n",
    "    a, *b = 1,2,3. This forces b, to take in arguments that are remaining a, *b = 1, 2, 3 would \n",
    "    result in -> a = 1, b = [2,3]. In our case, args is = [1,10]\n",
    "    \n",
    "    #3 getattr(setA, method) basically writes \"setA.method\" = setA.insert(). The expression int(x)\n",
    "    for x in args is a generator expression (like list comprehension) to make elements in args int.\n",
    "    The asterisk this this time performs the role of \"argument unpacking\", this converts a sequence\n",
    "    into function arguments. So our sequence was a list [1,10] becomes arguments to a function as\n",
    "    (1,10).\n",
    "    \n",
    "    All in all 3 does, setA.insert(1,10)\n",
    "    \n",
    "    \"\"\""
   ]
  },
  {
   "cell_type": "markdown",
   "metadata": {},
   "source": [
    "## Map"
   ]
  },
  {
   "cell_type": "code",
   "execution_count": 11,
   "metadata": {
    "collapsed": true
   },
   "outputs": [],
   "source": [
    "def mapExample():\n",
    "    userInput = \"1 2 3 4 5 6 7 8 9 10\"\n",
    "    s = userInput.split() # s = ['1', '2', '3', '4', '5', '6', '7', '8', '9', '10']\n",
    "    print(s)\n",
    "    \n",
    "    try:\n",
    "        print(sum(s))\n",
    "    except:\n",
    "        print(\"Can't take sum of strings/chars\") #Because s is a list of characters\n",
    "\n",
    "    s = list(map(int,s)) #All the characters are now integers, [1, 2, 3, 4, 5, 6, 7, 8, 9, 10]\n",
    "    print(sum(s)) # - > 55"
   ]
  },
  {
   "cell_type": "markdown",
   "metadata": {
    "collapsed": true
   },
   "source": [
    "## Itertools\n",
    "> A set of functions for working with iterable data sets ([source](https://pymotw.com/2/itertools/))"
   ]
  },
  {
   "cell_type": "code",
   "execution_count": 10,
   "metadata": {
    "collapsed": true
   },
   "outputs": [],
   "source": [
    "def itertools():\n",
    "    import itertools\n",
    "    \n",
    "    a = [1,2,3,4,5]\n",
    "    b = [7,8,9,10,11]\n",
    "    \n",
    "    itertools.product(a,b) # Returns an itertools object (not easily readable)\n",
    "    list(itertools.product(a,b)) # Returns a list (easily readable)\n",
    "    \n",
    "    itertools.permutations(a,2) # Returns all possible 2 ordered tuple permutations\n",
    "    itertools.combinations(a,2) # Returns all possible 2 ordered combinations\n",
    "    "
   ]
  },
  {
   "cell_type": "markdown",
   "metadata": {},
   "source": [
    "## Calendar\n",
    "> https://docs.python.org/2/library/calendar.html#calendar.TextCalendar"
   ]
  },
  {
   "cell_type": "markdown",
   "metadata": {
    "collapsed": true
   },
   "source": [
    "## Zip\n",
    "> zip(\\*seq) - takes in 1 or multiple sequence arguements and returns a list of tuples matching each index of one sequence to another"
   ]
  },
  {
   "cell_type": "code",
   "execution_count": null,
   "metadata": {
    "collapsed": true
   },
   "outputs": [],
   "source": []
  }
 ],
 "metadata": {
  "kernelspec": {
   "display_name": "Python 3",
   "language": "python",
   "name": "python3"
  },
  "language_info": {
   "codemirror_mode": {
    "name": "ipython",
    "version": 3
   },
   "file_extension": ".py",
   "mimetype": "text/x-python",
   "name": "python",
   "nbconvert_exporter": "python",
   "pygments_lexer": "ipython3",
   "version": "3.6.1"
  }
 },
 "nbformat": 4,
 "nbformat_minor": 2
}
