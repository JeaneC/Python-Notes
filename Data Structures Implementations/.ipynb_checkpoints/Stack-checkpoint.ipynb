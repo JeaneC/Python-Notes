{
 "cells": [
  {
   "cell_type": "markdown",
   "metadata": {},
   "source": [
    "Implementation of a stack. Stacks are LIFO and have the operations push, pop, peek, isEmpty, and size"
   ]
  },
  {
   "cell_type": "code",
   "execution_count": 1,
   "metadata": {
    "collapsed": true
   },
   "outputs": [],
   "source": [
    "class Stack(object):\n",
    "    \n",
    "    def __init__(self):\n",
    "        self.items = []\n",
    "        \n",
    "    def isEmpty(self):\n",
    "        return self.items == []\n",
    "    \n",
    "    def push(self,item):\n",
    "        self.items.append(item)\n",
    "        \n",
    "    def pop(self):\n",
    "        return self.items.pop()\n",
    "    \n",
    "    def peek(self):\n",
    "        return self.items[len(self.items)-1]\n",
    "    \n",
    "    def size(self):\n",
    "        return len(self.items)"
   ]
  },
  {
   "cell_type": "code",
   "execution_count": 2,
   "metadata": {},
   "outputs": [
    {
     "name": "stdout",
     "output_type": "stream",
     "text": [
      "The Stack is empty: True\n",
      "Our peek is two\n",
      "We popped off 3\n",
      "Our stack size is 2\n"
     ]
    }
   ],
   "source": [
    "# Testing\n",
    "s = Stack()\n",
    "\n",
    "print('The Stack is empty: {}'.format(s.isEmpty()))\n",
    "s.push(1)\n",
    "s.push('two')\n",
    "\n",
    "print('Our peek is {}'.format(s.peek())) # Should return 'two'\n",
    "\n",
    "s.push(3)\n",
    "print('We popped off {}'.format(s.pop())) # Should return 3\n",
    "print('Our stack size is {}'.format(s.size())) # should return 2 since we just popped off the third element"
   ]
  }
 ],
 "metadata": {
  "kernelspec": {
   "display_name": "Python 3",
   "language": "python",
   "name": "python3"
  },
  "language_info": {
   "codemirror_mode": {
    "name": "ipython",
    "version": 3
   },
   "file_extension": ".py",
   "mimetype": "text/x-python",
   "name": "python",
   "nbconvert_exporter": "python",
   "pygments_lexer": "ipython3",
   "version": "3.6.1"
  }
 },
 "nbformat": 4,
 "nbformat_minor": 2
}
