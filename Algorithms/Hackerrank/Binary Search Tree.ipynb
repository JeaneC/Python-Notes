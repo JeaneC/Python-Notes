{
 "cells": [
  {
   "cell_type": "markdown",
   "metadata": {},
   "source": [
    "[Binary Search Tree](https://www.hackerrank.com/challenges/ctci-is-binary-search-tree/problem)"
   ]
  },
  {
   "cell_type": "code",
   "execution_count": 1,
   "metadata": {
    "collapsed": true
   },
   "outputs": [],
   "source": [
    "\"\"\" Node is defined as\n",
    "class node:\n",
    "    def __init__(self, data):\n",
    "        self.data = data\n",
    "        self.left = None\n",
    "        self.right = None\n",
    "\"\"\"\n",
    "\n",
    "def checkBST(root):\n",
    "    max = 10000\n",
    "    min = 0\n",
    "    data = {root.data}\n",
    "    \n",
    "    def checkBounds(data, leftBound, rightBound):\n",
    "        #Case 1 - Not a BST\n",
    "        return False if data < leftBound or data > rightBound else True\n",
    "\n",
    "    \n",
    "    def evaluateNode(node, lowerBound, upperBound):\n",
    "    \n",
    "        #Case 2 - Not a unique BST\n",
    "        if node.data in data:\n",
    "            return False\n",
    "        else:\n",
    "            data.add(node.data)\n",
    "        \n",
    "        if not checkBounds(node.data, lowerBound, upperBound): return False\n",
    "        \n",
    "        if node.left is not None:\n",
    "            if not evaluateNode(node.left, lowerBound, node.data): return False\n",
    "                \n",
    "        if node.right is not None:\n",
    "            if not evaluateNode(node.right, node.data, upperBound): return False \n",
    "\n",
    "        return True\n",
    "    \n",
    "    #Left Side\n",
    "    if not evaluateNode(root.left, min, root.data): return False \n",
    "       \n",
    "    \n",
    "    #Right Side\n",
    "    if not evaluateNode(root.right, root.data, max): return False \n",
    "        \n",
    "    return True"
   ]
  }
 ],
 "metadata": {
  "kernelspec": {
   "display_name": "Python 3",
   "language": "python",
   "name": "python3"
  },
  "language_info": {
   "codemirror_mode": {
    "name": "ipython",
    "version": 3
   },
   "file_extension": ".py",
   "mimetype": "text/x-python",
   "name": "python",
   "nbconvert_exporter": "python",
   "pygments_lexer": "ipython3",
   "version": "3.6.1"
  }
 },
 "nbformat": 4,
 "nbformat_minor": 2
}
