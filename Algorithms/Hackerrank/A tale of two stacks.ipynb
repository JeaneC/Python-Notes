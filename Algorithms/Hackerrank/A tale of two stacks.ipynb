{
 "cells": [
  {
   "cell_type": "markdown",
   "metadata": {},
   "source": [
    "[Queue: A tale of two stacks](https://www.hackerrank.com/challenges/ctci-queue-using-two-stacks/problem)"
   ]
  },
  {
   "cell_type": "code",
   "execution_count": null,
   "metadata": {
    "collapsed": true
   },
   "outputs": [],
   "source": [
    "class MyQueue(object):\n",
    "    def __init__(self):\n",
    "        self.stack1 = [] #Stack\n",
    "        self.stack2 = [] #Psuedo-Queue\n",
    "        \n",
    "    \n",
    "    def peek(self):\n",
    "        self.queueUp()\n",
    "        return self.stack2[len(self.stack2)-1]\n",
    "        \n",
    "    def pop(self):\n",
    "        self.queueUp()\n",
    "        return self.stack2.pop()\n",
    "        \n",
    "    def put(self, value):\n",
    "        self.stack1.append(value)\n",
    "\n",
    "            \n",
    "    def queueUp(self):\n",
    "        if len(self.stack2) == 0:\n",
    "            while len(self.stack1) > 0 :\n",
    "                self.stack2.append(self.stack1.pop())"
   ]
  },
  {
   "cell_type": "code",
   "execution_count": null,
   "metadata": {
    "collapsed": true
   },
   "outputs": [],
   "source": [
    "## This was given\n",
    "queue = MyQueue()\n",
    "t = int(input())\n",
    "for line in range(t):\n",
    "    values = map(int, input().split())\n",
    "    values = list(values)\n",
    "    if values[0] == 1:\n",
    "        queue.put(values[1])        \n",
    "    elif values[0] == 2:\n",
    "        queue.pop()\n",
    "    else:\n",
    "        print(queue.peek())"
   ]
  }
 ],
 "metadata": {
  "kernelspec": {
   "display_name": "Python 3",
   "language": "python",
   "name": "python3"
  },
  "language_info": {
   "codemirror_mode": {
    "name": "ipython",
    "version": 3
   },
   "file_extension": ".py",
   "mimetype": "text/x-python",
   "name": "python",
   "nbconvert_exporter": "python",
   "pygments_lexer": "ipython3",
   "version": "3.6.1"
  }
 },
 "nbformat": 4,
 "nbformat_minor": 2
}
