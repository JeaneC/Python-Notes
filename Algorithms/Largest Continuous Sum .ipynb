{
 "cells": [
  {
   "cell_type": "markdown",
   "metadata": {},
   "source": [
    "# Largest Continuous Sum\n",
    "\n",
    "## Problem\n",
    "Given an array of integers (positive and negative) find the largest continuous sum. \n",
    "\n",
    "## Solution\n",
    "\n",
    "Fill out your solution below:"
   ]
  },
  {
   "cell_type": "code",
   "execution_count": null,
   "metadata": {},
   "outputs": [],
   "source": [
    "def large_cont_sum(arr): \n",
    "    segmentedChunks = []\n",
    "    isPositive = arr[0] >= 0\n",
    "    miniChunk = []\n",
    "    \n",
    "    for i in arr:\n",
    "        if i >= 0 and isPositive:\n",
    "            miniChunk.append(i)\n",
    "        elif i < 0 and not isPositive:\n",
    "            miniChunk.append(i)\n",
    "        else:\n",
    "            segmentedChunks.append(miniChunk)\n",
    "            miniChunk = [i]\n",
    "            isPositive = not isPositive\n",
    "            \n",
    "    if len(miniChunk) > 0:\n",
    "        segmentedChunks.append(miniChunk)\n",
    "   \n",
    "    strongestSum = 0\n",
    "    \n",
    "    for i in range(len(segmentedChunks)):\n",
    "        currentSum = 0\n",
    "        for i in range(i,len(segmentedChunks)):\n",
    "            currentSum += sum(segmentedChunks[i])\n",
    "            if currentSum > strongestSum:\n",
    "                strongestSum = currentSum\n",
    "        \n",
    "    return strongestSum\n",
    "            "
   ]
  },
  {
   "cell_type": "code",
   "execution_count": null,
   "metadata": {
    "collapsed": true
   },
   "outputs": [],
   "source": [
    "def large_cont_sum2(arr):\n",
    "    max_sum = current_sum = arr[0]\n",
    "    \n",
    "    for num in arr[1:]:\n",
    "        current_sum = max(current_sum + num, num)\n",
    "        print(current_sum)\n",
    "        max_sum = max(current_sum,max_sum)\n",
    "\n",
    "    return max_sum"
   ]
  },
  {
   "cell_type": "code",
   "execution_count": 7,
   "metadata": {
    "collapsed": true
   },
   "outputs": [],
   "source": [
    "# Same thing above but raw\n",
    "def large_cont_sum3(arr): \n",
    "    if len(arr) == 0:\n",
    "        return 0\n",
    "    \n",
    "    maxSum = currentSum = arr[0]\n",
    "    start = 1\n",
    "    end = \n",
    "    for num in range(1,len(arr)):\n",
    "        if currentSum + arr[num] > arr[num]:\n",
    "            currentSum += arr[num]\n",
    "        else:\n",
    "            currentSum = arr[num]\n",
    "            start = num\n",
    "        \n",
    "        if currentSum > maxSum:\n",
    "            maxSum = currentSum\n",
    "            end \n",
    "    \n",
    "    return maxSum"
   ]
  },
  {
   "cell_type": "code",
   "execution_count": 8,
   "metadata": {},
   "outputs": [
    {
     "data": {
      "text/plain": [
       "36"
      ]
     },
     "execution_count": 8,
     "metadata": {},
     "output_type": "execute_result"
    }
   ],
   "source": [
    "large_cont_sum3([-1,-2,-1,3,4,10,10,-10,-1,10,10])"
   ]
  },
  {
   "cell_type": "markdown",
   "metadata": {},
   "source": [
    "____\n",
    "Many times in an interview setting the question also requires you to report back the start and end points of the sum. Keep this in mind and see if you can solve that problem, we'll see it in the mock interview section of the course!"
   ]
  },
  {
   "cell_type": "markdown",
   "metadata": {},
   "source": [
    "# Test Your Solution"
   ]
  },
  {
   "cell_type": "code",
   "execution_count": null,
   "metadata": {},
   "outputs": [],
   "source": [
    "from nose.tools import assert_equal\n",
    "\n",
    "class LargeContTest(object):\n",
    "    def test(self,sol):\n",
    "        assert_equal(sol([1,2,-1,3,4,-1]),9)\n",
    "        assert_equal(sol([1,2,-1,3,4,10,10,-10,-1]),29)\n",
    "        assert_equal(sol([-1,1]),1)\n",
    "        print('ALL TEST CASES PASSED')\n",
    "        \n",
    "#Run Test\n",
    "t = LargeContTest()\n",
    "t.test(large_cont_sum)"
   ]
  },
  {
   "cell_type": "markdown",
   "metadata": {},
   "source": [
    "## Good Job!"
   ]
  }
 ],
 "metadata": {
  "kernelspec": {
   "display_name": "Python 3",
   "language": "python",
   "name": "python3"
  },
  "language_info": {
   "codemirror_mode": {
    "name": "ipython",
    "version": 3
   },
   "file_extension": ".py",
   "mimetype": "text/x-python",
   "name": "python",
   "nbconvert_exporter": "python",
   "pygments_lexer": "ipython3",
   "version": "3.6.1"
  }
 },
 "nbformat": 4,
 "nbformat_minor": 1
}
